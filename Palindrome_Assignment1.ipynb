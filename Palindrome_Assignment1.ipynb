{
  "nbformat": 4,
  "nbformat_minor": 0,
  "metadata": {
    "colab": {
      "provenance": []
    },
    "kernelspec": {
      "name": "python3",
      "display_name": "Python 3"
    },
    "language_info": {
      "name": "python"
    }
  },
  "cells": [
    {
      "cell_type": "markdown",
      "source": [
        "# Importing Libraries"
      ],
      "metadata": {
        "id": "0APvgB0hUVYe"
      }
    },
    {
      "cell_type": "code",
      "execution_count": 1,
      "metadata": {
        "id": "ZIgA-5LhUR96"
      },
      "outputs": [],
      "source": [
        "import numpy as np\n",
        "from sklearn.model_selection import train_test_split, KFold\n",
        "from sklearn.metrics import precision_score, f1_score, recall_score, confusion_matrix\n",
        "from imblearn.over_sampling import SMOTE\n",
        "import seaborn as sns\n",
        "import matplotlib.pyplot as plt\n",
        "import pickle"
      ]
    },
    {
      "cell_type": "markdown",
      "source": [
        "# Model Initialization"
      ],
      "metadata": {
        "id": "8kV0NQEQUTP5"
      }
    },
    {
      "cell_type": "code",
      "source": [
        "def is_palindrome(binary_str):\n",
        "    return binary_str == binary_str[::-1]"
      ],
      "metadata": {
        "id": "Ie2097kxWtxP"
      },
      "execution_count": 2,
      "outputs": []
    },
    {
      "cell_type": "code",
      "source": [
        "class NeuralNetwork:\n",
        "    def __init__(self, input_size, hidden_size, output_size, momentum_factor, seed=None):\n",
        "        self.input_size = input_size\n",
        "        self.hidden_size = hidden_size\n",
        "        self.output_size = output_size\n",
        "        self.momentum_factor = momentum_factor\n",
        "\n",
        "        # Initialize weights and biases\n",
        "        np.random.seed(seed)\n",
        "\n",
        "        #### Xavier/Glorot Initialization (Preferred For Sigmoid)\n",
        "        self.weights_input_hidden = np.random.normal(0, np.sqrt(2. / self.input_size), (self.input_size, self.hidden_size))\n",
        "        self.bias_input_hidden = np.zeros((1, self.hidden_size))\n",
        "        self.weights_hidden_output = np.random.normal(0, np.sqrt(2. / self.hidden_size), (self.hidden_size, self.output_size))\n",
        "        self.bias_hidden_output = np.zeros((1, self.output_size))\n",
        "\n",
        "        self.momentum_weights_input_hidden = np.zeros_like(self.weights_input_hidden)\n",
        "        self.momentum_bias_input_hidden = np.zeros_like(self.bias_input_hidden)\n",
        "        self.momentum_weights_hidden_output = np.zeros_like(self.weights_hidden_output)\n",
        "        self.momentum_bias_hidden_output = np.zeros_like(self.bias_hidden_output)\n",
        "\n",
        "\n",
        "    def reLu(self, x):\n",
        "        return np.maximum(0,x)\n",
        "\n",
        "    def reLu_derivative(self,x):\n",
        "        x[x<=0] = 0\n",
        "        x[x>0] = 1\n",
        "        return x\n",
        "\n",
        "    def sigmoid(self, x):\n",
        "        return 1 / (1 + np.exp(-x))\n",
        "\n",
        "    def sigmoid_derivative(self, x):\n",
        "        return x * (1-x)\n",
        "\n",
        "    def forward_propagation(self, X):\n",
        "        self.hidden_input = np.dot(X, self.weights_input_hidden) + self.bias_input_hidden\n",
        "        self.hidden_output = self.sigmoid(self.hidden_input)\n",
        "\n",
        "        self.output_input = np.dot(self.hidden_output, self.weights_hidden_output) + self.bias_hidden_output\n",
        "        self.output = self.sigmoid(self.output_input)\n",
        "\n",
        "\n",
        "    def backward_propagation(self, X, y):\n",
        "        output_error = y - self.output # TSS Loss\n",
        "        output_delta = output_error * self.sigmoid_derivative(self.output) # del(j)\n",
        "\n",
        "        hidden_error = output_delta.dot(self.weights_hidden_output.T) # del(j)*wjk\n",
        "        hidden_delta = hidden_error * self.sigmoid_derivative(self.hidden_output)\n",
        "\n",
        "        return output_delta, hidden_delta\n",
        "\n",
        "    def update_parameters(self, X, output_delta, hidden_delta, learning_rate):\n",
        "        #Delta For OuterMost Layer-----------> del(E)/del(netK)\n",
        "        self.momentum_weights_hidden_output = self.momentum_factor * self.momentum_weights_hidden_output + (1-self.momentum_factor) * self.hidden_output.T.dot(output_delta)\n",
        "        self.momentum_bias_hidden_output = self.momentum_factor * self.momentum_bias_hidden_output + (1-self.momentum_factor)* np.sum(output_delta, axis=0, keepdims=True)\n",
        "\n",
        "        #Delta For Hidden Layyer-------------> del(E)/del(netj) ---> Sum of next layer(weights*delta)*derivative of activation\n",
        "        self.momentum_weights_input_hidden = self.momentum_factor * self.momentum_weights_input_hidden + (1-self.momentum_factor)* X.T.dot(hidden_delta)\n",
        "        self.momentum_bias_input_hidden = self.momentum_factor * self.momentum_bias_input_hidden + (1-self.momentum_factor)* np.sum(hidden_delta, axis=0, keepdims=True)\n",
        "\n",
        "\n",
        "        self.weights_hidden_output += self.momentum_weights_hidden_output*learning_rate\n",
        "        self.bias_hidden_output += self.momentum_bias_hidden_output*learning_rate\n",
        "        self.weights_input_hidden += self.momentum_weights_input_hidden*learning_rate\n",
        "        self.bias_input_hidden += self.momentum_bias_input_hidden*learning_rate\n",
        "\n",
        "    def train(self, X, y, epochs, learning_rate):\n",
        "        for epoch in range(epochs):\n",
        "            self.forward_propagation(X)\n",
        "\n",
        "            output_delta, hidden_delta = self.backward_propagation(X, y)\n",
        "\n",
        "            self.update_parameters(X, output_delta, hidden_delta, learning_rate)\n",
        "\n",
        "    def predict(self, X):\n",
        "        self.forward_propagation(X)\n",
        "        predictions = (self.output > 0.5).astype(int)\n",
        "        return predictions\n",
        "\n",
        "    def get_neuron_predict(self, X):\n",
        "        hidden_input = np.dot(X, self.weights_input_hidden) + self.bias_input_hidden\n",
        "        hidden_output = self.sigmoid(hidden_input)\n",
        "        output_input = np.dot(hidden_output, self.weights_hidden_output) + self.bias_hidden_output\n",
        "        output = self.sigmoid(output_input)\n",
        "        return (hidden_input, hidden_output,output_input,output)\n",
        "\n",
        "    # To save the model\n",
        "    def save_model(self, filename='model.pkl'):\n",
        "        model_state = {\n",
        "            'input_size': self.input_size,\n",
        "            'hidden_size': self.hidden_size,\n",
        "            'output_size': self.output_size,\n",
        "            'momentum_factor': self.momentum_factor,\n",
        "            'weights_input_hidden': self.weights_input_hidden,\n",
        "            'bias_input_hidden': self.bias_input_hidden,\n",
        "            'weights_hidden_output': self.weights_hidden_output,\n",
        "            'bias_hidden_output': self.bias_hidden_output,\n",
        "            'momentum_weights_input_hidden': self.momentum_weights_input_hidden,\n",
        "            'momentum_bias_input_hidden': self.momentum_bias_input_hidden,\n",
        "            'momentum_weights_hidden_output': self.momentum_weights_hidden_output,\n",
        "            'momentum_bias_hidden_output': self.momentum_bias_hidden_output,\n",
        "        }\n",
        "\n",
        "        with open(filename, 'wb') as file:\n",
        "            pickle.dump(model_state, file)\n",
        "        print(f\"Model parameters saved to {filename}\")\n",
        "\n",
        "    # To Load the Model\n",
        "    def load_model(self, filename='model.pkl'):\n",
        "        with open(filename, 'rb') as file:\n",
        "            model_state = pickle.load(file)\n",
        "\n",
        "        # Update the current instance's parameters with loaded values\n",
        "        self.input_size = model_state['input_size']\n",
        "        self.hidden_size = model_state['hidden_size']\n",
        "        self.output_size = model_state['output_size']\n",
        "        self.momentum_factor = model_state['momentum_factor']\n",
        "        self.weights_input_hidden = model_state['weights_input_hidden']\n",
        "        self.bias_input_hidden = model_state['bias_input_hidden']\n",
        "        self.weights_hidden_output = model_state['weights_hidden_output']\n",
        "        self.bias_hidden_output = model_state['bias_hidden_output']\n",
        "        self.momentum_weights_input_hidden = model_state['momentum_weights_input_hidden']\n",
        "        self.momentum_bias_input_hidden = model_state['momentum_bias_input_hidden']\n",
        "        self.momentum_weights_hidden_output = model_state['momentum_weights_hidden_output']\n",
        "        self.momentum_bias_hidden_output = model_state['momentum_bias_hidden_output']\n",
        "\n",
        "        print(f\"Model parameters loaded from {filename}\")\n",
        "\n",
        "\n",
        "    def train_and_evaluate(self,X, y, input_size, hidden_size, output_size, epochs, learning_rate,k_folds=5, seed=None):\n",
        "        kf = KFold(n_splits=k_folds, shuffle=True, random_state=seed)\n",
        "\n",
        "        precisions = []\n",
        "        f1_scores = []\n",
        "        recalls = []\n",
        "        for train_index, test_index in kf.split(X):\n",
        "            X_train, X_test = X[train_index], X[test_index]\n",
        "            y_train, y_test = y[train_index], y[test_index]\n",
        "            self.train(X_train, y_train, epochs, learning_rate)\n",
        "\n",
        "            predictions = self.predict(X_test)\n",
        "            precision = precision_score(y_test, predictions)\n",
        "            f1_scr = f1_score(y_test, predictions)\n",
        "            recall = recall_score(y_test, predictions)\n",
        "            precisions.append(precision)\n",
        "            f1_scores.append(f1_scr)\n",
        "            recalls.append(recall)\n",
        "\n",
        "            print(f'Precision: {precision}, F1-score: {f1_scr}, Recall: {recall}')\n",
        "            # print(y_test.flatten())\n",
        "            # print(predictions.flatten())\n",
        "\n",
        "        avg_precision = np.mean(precisions)\n",
        "        avg_f1_score = np.mean(f1_scores)\n",
        "        avg_recall = np.mean(recalls)\n",
        "        self.save_model()\n",
        "        print(f'Average Precision across {k_folds} folds: {avg_precision}\\nAverage F1-score across {k_folds} folds: {avg_f1_score}\\nAverage Recall across {k_folds} folds: {avg_recall}')"
      ],
      "metadata": {
        "id": "wie3BLhMUmvi"
      },
      "execution_count": 3,
      "outputs": []
    },
    {
      "cell_type": "markdown",
      "source": [
        "# Model Instantiation"
      ],
      "metadata": {
        "id": "Ffuk4EjMVXEY"
      }
    },
    {
      "cell_type": "code",
      "source": [
        "# Example usage\n",
        "input_size = 10\n",
        "hidden_size = 2\n",
        "output_size = 1\n",
        "momentum_factor = 0.3"
      ],
      "metadata": {
        "id": "ENGH-cHLWmal"
      },
      "execution_count": 4,
      "outputs": []
    },
    {
      "cell_type": "markdown",
      "source": [
        "# Loading Data"
      ],
      "metadata": {
        "id": "PgrOAWVnWm5v"
      }
    },
    {
      "cell_type": "code",
      "source": [
        "all_binary_strings = [format(i, '010b') for i in range(2**10)]\n",
        "inputs = np.array([list(map(int, binary_str)) for binary_str in all_binary_strings], dtype=np.int16)\n",
        "targets = np.array([is_palindrome(binary_str) for binary_str in all_binary_strings], dtype=np.int16).reshape(-1, 1)\n",
        "\n",
        "non_palindrome_indices = np.where(targets[:, 0] == 0)[0]\n",
        "palindrome_indices = np.where(targets[:, 0] == 1)[0]\n",
        "np.random.shuffle(non_palindrome_indices)\n",
        "balanced_indices = np.concatenate([non_palindrome_indices[:len(palindrome_indices)], palindrome_indices])\n",
        "np.random.shuffle(balanced_indices)\n",
        "#print(balanced_indices)\n",
        "oversample_indicies = np.append(balanced_indices,balanced_indices)\n",
        "\n",
        "balanced_inputs = inputs[oversample_indicies]\n",
        "balanced_targets = targets[oversample_indicies]\n",
        "smote = SMOTE()\n",
        "inputs_resampled, targets_resampled = smote.fit_resample(inputs, targets)\n",
        "targets_resampled = targets_resampled.reshape(-1, 1)\n",
        "# Create neural network\n",
        "neural_network = NeuralNetwork(input_size, hidden_size, output_size,momentum_factor=momentum_factor)\n",
        "#neural_network.train_and_evaluate(inputs_resampled,targets_resampled,input_size,hidden_size,output_size,10000,0.01,5,seed=52)\n"
      ],
      "metadata": {
        "id": "LOIdSub3Wwsk"
      },
      "execution_count": 5,
      "outputs": []
    },
    {
      "cell_type": "markdown",
      "source": [
        "## Loading Saved Model"
      ],
      "metadata": {
        "id": "G6tAEBcGwscW"
      }
    },
    {
      "cell_type": "code",
      "source": [
        "neural_network.load_model(\"model.pkl\") #loading the trained model."
      ],
      "metadata": {
        "colab": {
          "base_uri": "https://localhost:8080/"
        },
        "id": "rSw5XmaDwrSw",
        "outputId": "15137266-6792-4d90-c1e1-7751f287b634"
      },
      "execution_count": 6,
      "outputs": [
        {
          "output_type": "stream",
          "name": "stdout",
          "text": [
            "Model parameters loaded from model.pkl\n"
          ]
        }
      ]
    },
    {
      "cell_type": "markdown",
      "source": [
        "# Testing"
      ],
      "metadata": {
        "id": "4C9cwHvk21_P"
      }
    },
    {
      "cell_type": "code",
      "source": [
        "y_predict = neural_network.predict(inputs)\n",
        "cm = confusion_matrix(y_predict, targets)\n",
        "# Plotting the confusion matrix using Seaborn heatmap\n",
        "plt.figure(figsize=(8, 6))\n",
        "sns.heatmap(cm, annot=True, fmt=\"d\", cmap=\"Blues\", xticklabels=[0,1], yticklabels=[0,1])\n",
        "plt.title('Confusion Matrix')\n",
        "plt.xlabel('Actual')\n",
        "plt.ylabel('Predicted')\n",
        "plt.show()"
      ],
      "metadata": {
        "colab": {
          "base_uri": "https://localhost:8080/",
          "height": 564
        },
        "id": "zeZTHwIXJ7kl",
        "outputId": "7d45e15e-160e-4c6a-f867-a003b1cc33f4"
      },
      "execution_count": 7,
      "outputs": [
        {
          "output_type": "display_data",
          "data": {
            "text/plain": [
              "<Figure size 800x600 with 2 Axes>"
            ],
            "image/png": "[encoded data removed]"
          },
          "metadata": {}
        }
      ]
    },
    {
      "cell_type": "code",
      "source": [
        "print(neural_network.weights_input_hidden.T)\n",
        "print(neural_network.weights_hidden_output.T)\n",
        "print(neural_network.bias_hidden_output)\n",
        "print(neural_network.bias_input_hidden)"
      ],
      "metadata": {
        "colab": {
          "base_uri": "https://localhost:8080/"
        },
        "id": "1nJNh06tIUIt",
        "outputId": "24a7bc23-bbb7-4400-d322-17420ae55231"
      },
      "execution_count": 8,
      "outputs": [
        {
          "output_type": "stream",
          "name": "stdout",
          "text": [
            "[[-21.103238  -5.229046 -10.497463  13.877196   7.25821   -7.217289\n",
            "  -13.849237  10.503724   5.2652    21.084626]\n",
            " [ 21.406045   5.327159  10.700617 -12.693136  -7.357754   7.38126\n",
            "   12.728184 -10.644741  -5.290742 -21.352189]]\n",
            "[[-30.577723 -30.204053]]\n",
            "[[14.855507]]\n",
            "[[-1.663453 -1.72729 ]]\n"
          ]
        }
      ]
    },
    {
      "cell_type": "code",
      "source": [
        "#np.set_printoptions(suppress=True, formatter={'float': lambda x: \"{:+.6f}\".format(x)})"
      ],
      "metadata": {
        "id": "6lDLhS93dnjx"
      },
      "execution_count": 9,
      "outputs": []
    },
    {
      "cell_type": "code",
      "source": [
        "neural_network.get_neuron_predict([1,1,1,1,1,1,1,1,1,1])"
      ],
      "metadata": {
        "colab": {
          "base_uri": "https://localhost:8080/"
        },
        "id": "H3FYk2SjbJRZ",
        "outputId": "61055073-7b8c-4e1b-f29a-7a944d797dd0"
      },
      "execution_count": 10,
      "outputs": [
        {
          "output_type": "stream",
          "name": "stdout",
          "text": [
            "[[-1.57077  -1.522587]]\n"
          ]
        },
        {
          "output_type": "execute_result",
          "data": {
            "text/plain": [
              "(array([[-1.57077 , -1.522587]]),\n",
              " array([[0.17210665, 0.17908089]]),\n",
              " array([[4.18390895]]),\n",
              " array([[0.98498991]]))"
            ]
          },
          "metadata": {},
          "execution_count": 10
        }
      ]
    },
    {
      "cell_type": "code",
      "source": [
        "neural_network.get_neuron_predict([1,0,1,1,1,1,1,1,0,1])"
      ],
      "metadata": {
        "colab": {
          "base_uri": "https://localhost:8080/"
        },
        "id": "vvEsRGRgb6ed",
        "outputId": "c4f8521b-8237-45a9-9ac0-424ba2fceeca"
      },
      "execution_count": 11,
      "outputs": [
        {
          "output_type": "stream",
          "name": "stdout",
          "text": [
            "[[-1.606924 -1.559004]]\n"
          ]
        },
        {
          "output_type": "execute_result",
          "data": {
            "text/plain": [
              "(array([[-1.606924, -1.559004]]),\n",
              " array([[0.16701611, 0.17378961]]),\n",
              " array([[4.49938385]]),\n",
              " array([[0.98900636]]))"
            ]
          },
          "metadata": {},
          "execution_count": 11
        }
      ]
    },
    {
      "cell_type": "code",
      "source": [
        "neural_network.get_neuron_predict([0,1,1,1,1,1,1,1,1,1])"
      ],
      "metadata": {
        "colab": {
          "base_uri": "https://localhost:8080/"
        },
        "id": "MzjRQYbHcQs5",
        "outputId": "8d57e794-64b9-4ddc-b722-d2a98711b38c"
      },
      "execution_count": 12,
      "outputs": [
        {
          "output_type": "stream",
          "name": "stdout",
          "text": [
            "[[ 19.532468 -22.928632]]\n"
          ]
        },
        {
          "output_type": "execute_result",
          "data": {
            "text/plain": [
              "(array([[ 19.532468, -22.928632]]),\n",
              " array([[9.99999997e-01, 1.10210163e-10]]),\n",
              " array([[-15.7222159]]),\n",
              " array([[1.48569043e-07]]))"
            ]
          },
          "metadata": {},
          "execution_count": 12
        }
      ]
    },
    {
      "cell_type": "code",
      "source": [
        "print(neural_network.sigmoid(+19.532468))\n",
        "print(neural_network.sigmoid(-22.928632))"
      ],
      "metadata": {
        "colab": {
          "base_uri": "https://localhost:8080/"
        },
        "id": "3TT_x2ylycbC",
        "outputId": "ae613a01-cf79-4d4e-8271-06ebe8a4e7ca"
      },
      "execution_count": 13,
      "outputs": [
        {
          "output_type": "stream",
          "name": "stdout",
          "text": [
            "0.9999999967102953\n",
            "1.1021016301337228e-10\n"
          ]
        }
      ]
    },
    {
      "cell_type": "code",
      "source": [
        "x1,x2,x3, x4 = neural_network.get_neuron_predict([0,1,1,0,1,1,1,1,1,1])\n",
        "print(x1)\n",
        "print(x2)\n",
        "print(x3)\n",
        "print(x4)"
      ],
      "metadata": {
        "colab": {
          "base_uri": "https://localhost:8080/"
        },
        "id": "Yx-tYMFmcVc7",
        "outputId": "af824c41-685b-453a-a781-323d9681360a"
      },
      "execution_count": 14,
      "outputs": [
        {
          "output_type": "stream",
          "name": "stdout",
          "text": [
            "[[  5.655272 -10.235496]]\n",
            "[[  5.655272 -10.235496]]\n",
            "[[9.96513179e-01 3.58727762e-05]]\n",
            "[[-15.61668046]]\n",
            "[[1.6510559e-07]]\n"
          ]
        }
      ]
    },
    {
      "cell_type": "code",
      "source": [
        "neural_network.get_neuron_predict([0,0,0,0,0,0,0,0,0,0])"
      ],
      "metadata": {
        "colab": {
          "base_uri": "https://localhost:8080/"
        },
        "id": "G2ble3yse1SL",
        "outputId": "69a06b3d-2530-4895-e3f7-2335d35f1eed"
      },
      "execution_count": 15,
      "outputs": [
        {
          "output_type": "stream",
          "name": "stdout",
          "text": [
            "[[-1.663453 -1.72729 ]]\n"
          ]
        },
        {
          "output_type": "execute_result",
          "data": {
            "text/plain": [
              "(array([[-1.663453, -1.72729 ]]),\n",
              " array([[0.15929902, 0.15093455]]),\n",
              " array([[5.42567073]]),\n",
              " array([[0.99561718]]))"
            ]
          },
          "metadata": {},
          "execution_count": 15
        }
      ]
    },
    {
      "cell_type": "code",
      "source": [
        "neural_network.get_neuron_predict([1,1,1,1,1,0,0,0,0,0])"
      ],
      "metadata": {
        "id": "i31UaTFt3eBy",
        "colab": {
          "base_uri": "https://localhost:8080/"
        },
        "outputId": "9fac9737-9a32-4592-936f-95076c4dd49e"
      },
      "execution_count": 16,
      "outputs": [
        {
          "output_type": "stream",
          "name": "stdout",
          "text": [
            "[[-17.357794  15.655641]]\n"
          ]
        },
        {
          "output_type": "execute_result",
          "data": {
            "text/plain": [
              "(array([[-17.357794,  15.655641]]),\n",
              " array([[2.89471516e-08, 9.99999841e-01]]),\n",
              " array([[-15.34854209]]),\n",
              " array([[2.1588018e-07]]))"
            ]
          },
          "metadata": {},
          "execution_count": 16
        }
      ]
    },
    {
      "cell_type": "code",
      "source": [
        "neural_network.get_neuron_predict([0,0,0,0,0,1,1,1,1,1])"
      ],
      "metadata": {
        "colab": {
          "base_uri": "https://localhost:8080/"
        },
        "id": "LPeA5lz7AyO0",
        "outputId": "c7ab41b6-7d24-4381-9c56-8e3fbfdd57ed"
      },
      "execution_count": 17,
      "outputs": [
        {
          "output_type": "stream",
          "name": "stdout",
          "text": [
            "[[ 14.123571 -18.905518]]\n"
          ]
        },
        {
          "output_type": "execute_result",
          "data": {
            "text/plain": [
              "(array([[ 14.123571, -18.905518]]),\n",
              " array([[9.99999265e-01, 6.15797402e-09]]),\n",
              " array([[-15.72219372]]),\n",
              " array([[1.48572339e-07]]))"
            ]
          },
          "metadata": {},
          "execution_count": 17
        }
      ]
    },
    {
      "cell_type": "code",
      "source": [
        "neural_network.get_neuron_predict([1,0,0,0,0,0,0,0,0,1])"
      ],
      "metadata": {
        "colab": {
          "base_uri": "https://localhost:8080/"
        },
        "id": "jadBtzhCArLn",
        "outputId": "1db38cc4-1497-467c-f981-c42ccc91c2f1"
      },
      "execution_count": 18,
      "outputs": [
        {
          "output_type": "stream",
          "name": "stdout",
          "text": [
            "[[-1.682065 -1.673434]]\n"
          ]
        },
        {
          "output_type": "execute_result",
          "data": {
            "text/plain": [
              "(array([[-1.682065, -1.673434]]),\n",
              " array([[0.15682222, 0.15796687]]),\n",
              " array([[5.28900068]]),\n",
              " array([[0.99497854]]))"
            ]
          },
          "metadata": {},
          "execution_count": 18
        }
      ]
    },
    {
      "cell_type": "code",
      "source": [
        "neural_network.get_neuron_predict([0,0,0,0,0,0,1,1,0,0])"
      ],
      "metadata": {
        "colab": {
          "base_uri": "https://localhost:8080/"
        },
        "id": "rETPbNmmA9gr",
        "outputId": "8aff9a72-3720-49cc-c0c8-fd98c92def07"
      },
      "execution_count": 19,
      "outputs": [
        {
          "output_type": "stream",
          "name": "stdout",
          "text": [
            "[[-5.008966  0.356153]]\n"
          ]
        },
        {
          "output_type": "execute_result",
          "data": {
            "text/plain": [
              "(array([[-5.008966,  0.356153]]),\n",
              " array([[0.00663351, 0.58810887]]),\n",
              " array([[-3.1106019]]),\n",
              " array([[0.04267205]]))"
            ]
          },
          "metadata": {},
          "execution_count": 19
        }
      ]
    },
    {
      "cell_type": "code",
      "source": [
        "neural_network.get_neuron_predict([0,0,0,0,1,1,0,0,0,0])"
      ],
      "metadata": {
        "colab": {
          "base_uri": "https://localhost:8080/"
        },
        "id": "qmJnajkMBFFG",
        "outputId": "ac2a37c8-dbd5-427d-8c85-a73ed16e835e"
      },
      "execution_count": 20,
      "outputs": [
        {
          "output_type": "stream",
          "name": "stdout",
          "text": [
            "[[-1.622532 -1.703784]]\n"
          ]
        },
        {
          "output_type": "execute_result",
          "data": {
            "text/plain": [
              "(array([[-1.622532, -1.703784]]),\n",
              " array([[0.16485597, 0.1539717 ]]),\n",
              " array([[5.16401739]]),\n",
              " array([[0.99431384]]))"
            ]
          },
          "metadata": {},
          "execution_count": 20
        }
      ]
    },
    {
      "cell_type": "code",
      "source": [
        "neural_network.get_neuron_predict([0,0,1,1,0,0,0,0,0,0])"
      ],
      "metadata": {
        "colab": {
          "base_uri": "https://localhost:8080/"
        },
        "id": "RsMScgdeBJht",
        "outputId": "50f2d577-3a8a-41e5-d56f-3f3827483140"
      },
      "execution_count": 21,
      "outputs": [
        {
          "output_type": "stream",
          "name": "stdout",
          "text": [
            "[[ 1.71628  -3.719809]]\n"
          ]
        },
        {
          "output_type": "execute_result",
          "data": {
            "text/plain": [
              "(array([[ 1.71628 , -3.719809]]),\n",
              " array([[0.84764906, 0.02366499]]),\n",
              " array([[-11.77844967]]),\n",
              " array([[7.66797999e-06]]))"
            ]
          },
          "metadata": {},
          "execution_count": 21
        }
      ]
    },
    {
      "cell_type": "code",
      "source": [
        "neural_network.get_neuron_predict([1,1,0,0,0,0,0,0,0,0])"
      ],
      "metadata": {
        "id": "P6AzZiEiBPPt",
        "outputId": "a2b3df21-f456-4490-f61a-5b59ab3de850",
        "colab": {
          "base_uri": "https://localhost:8080/"
        }
      },
      "execution_count": 22,
      "outputs": [
        {
          "output_type": "stream",
          "name": "stdout",
          "text": [
            "[[-27.995737  25.005914]]\n"
          ]
        },
        {
          "output_type": "execute_result",
          "data": {
            "text/plain": [
              "(array([[-27.995737,  25.005914]]),\n",
              " array([[6.94393911e-13, 1.00000000e+00]]),\n",
              " array([[-15.348546]]),\n",
              " array([[2.15879336e-07]]))"
            ]
          },
          "metadata": {},
          "execution_count": 22
        }
      ]
    },
    {
      "cell_type": "code",
      "source": [
        "neural_network.get_neuron_predict([1,1,1,1,1,1,1,1,1,0])"
      ],
      "metadata": {
        "id": "IoK_Y3haBae2",
        "colab": {
          "base_uri": "https://localhost:8080/"
        },
        "outputId": "cff5ec26-a057-4dd0-fc75-6aed1277ce1c"
      },
      "execution_count": 23,
      "outputs": [
        {
          "output_type": "stream",
          "name": "stdout",
          "text": [
            "[[-22.655396  19.829602]]\n"
          ]
        },
        {
          "output_type": "execute_result",
          "data": {
            "text/plain": [
              "(array([[-22.655396,  19.829602]]),\n",
              " array([[1.44839338e-10, 9.99999998e-01]]),\n",
              " array([[-15.34854593]]),\n",
              " array([[2.15879351e-07]]))"
            ]
          },
          "metadata": {},
          "execution_count": 23
        }
      ]
    },
    {
      "cell_type": "code",
      "source": [],
      "metadata": {
        "id": "4tlk1PwPw_bd"
      },
      "execution_count": 23,
      "outputs": []
    },
    {
      "cell_type": "markdown",
      "source": [
        "# Evaluation"
      ],
      "metadata": {
        "id": "T7IB_F1d34tJ"
      }
    },
    {
      "cell_type": "code",
      "source": [
        "def check_10_bit_input(bit_list):\n",
        "    if len(bit_list) != 10:\n",
        "        return False  # Length should be strictly 10\n",
        "    for bit in bit_list:\n",
        "        if bit not in {0, 1}:\n",
        "            return False  # Should contain only 0s and 1s\n",
        "    return True\n",
        "\n",
        "while True:\n",
        "    user_input = input(\"Enter a 10-bit binary number: \")\n",
        "    bit_list=[int(bit) for bit in user_input]\n",
        "    if check_10_bit_input(bit_list):\n",
        "        if neural_network.predict(bit_list)[0][0] > 0.5 :\n",
        "          print(\"Palindrome\")\n",
        "        else :\n",
        "          print(\"Not Palindrome\")\n",
        "    else:\n",
        "        print(\"Invalid input. Please enter a 10-bit binary number containing only 0s and 1s. Try again.\")"
      ],
      "metadata": {
        "colab": {
          "base_uri": "https://localhost:8080/",
          "height": 564
        },
        "id": "6cF37Aio36y_",
        "outputId": "b2abf74e-29d5-45e4-ad5d-c1c3f4875d20"
      },
      "execution_count": 34,
      "outputs": [
        {
          "output_type": "stream",
          "name": "stdout",
          "text": [
            "Enter a 10-bit binary number: 0101010101\n",
            "Not Palindrome\n",
            "Enter a 10-bit binary number: 1234567890\n",
            "Invalid input. Please enter a 10-bit binary number containing only 0s and 1s. Try again.\n",
            "Enter a 10-bit binary number: 0110010000\n",
            "Not Palindrome\n",
            "Enter a 10-bit binary number: 1111111111\n",
            "Palindrome\n",
            "Enter a 10-bit binary number: 1010101010\n",
            "Not Palindrome\n",
            "Enter a 10-bit binary number: 1100000011\n",
            "Palindrome\n"
          ]
        },
        {
          "output_type": "error",
          "ename": "KeyboardInterrupt",
          "evalue": "Interrupted by user",
          "traceback": [
            "\u001b[0;31m---------------------------------------------------------------------------\u001b[0m",
            "\u001b[0;31mKeyboardInterrupt\u001b[0m                         Traceback (most recent call last)",
            "\u001b[0;32m<ipython-input-34-da0aa71ee5cd>\u001b[0m in \u001b[0;36m<cell line: 9>\u001b[0;34m()\u001b[0m\n\u001b[1;32m      8\u001b[0m \u001b[0;34m\u001b[0m\u001b[0m\n\u001b[1;32m      9\u001b[0m \u001b[0;32mwhile\u001b[0m \u001b[0;32mTrue\u001b[0m\u001b[0;34m:\u001b[0m\u001b[0;34m\u001b[0m\u001b[0;34m\u001b[0m\u001b[0m\n\u001b[0;32m---> 10\u001b[0;31m     \u001b[0muser_input\u001b[0m \u001b[0;34m=\u001b[0m \u001b[0minput\u001b[0m\u001b[0;34m(\u001b[0m\u001b[0;34m\"Enter a 10-bit binary number: \"\u001b[0m\u001b[0;34m)\u001b[0m\u001b[0;34m\u001b[0m\u001b[0;34m\u001b[0m\u001b[0m\n\u001b[0m\u001b[1;32m     11\u001b[0m     \u001b[0mbit_list\u001b[0m\u001b[0;34m=\u001b[0m\u001b[0;34m[\u001b[0m\u001b[0mint\u001b[0m\u001b[0;34m(\u001b[0m\u001b[0mbit\u001b[0m\u001b[0;34m)\u001b[0m \u001b[0;32mfor\u001b[0m \u001b[0mbit\u001b[0m \u001b[0;32min\u001b[0m \u001b[0muser_input\u001b[0m\u001b[0;34m]\u001b[0m\u001b[0;34m\u001b[0m\u001b[0;34m\u001b[0m\u001b[0m\n\u001b[1;32m     12\u001b[0m     \u001b[0;32mif\u001b[0m \u001b[0mcheck_10_bit_input\u001b[0m\u001b[0;34m(\u001b[0m\u001b[0mbit_list\u001b[0m\u001b[0;34m)\u001b[0m\u001b[0;34m:\u001b[0m\u001b[0;34m\u001b[0m\u001b[0;34m\u001b[0m\u001b[0m\n",
            "\u001b[0;32m/usr/local/lib/python3.10/dist-packages/ipykernel/kernelbase.py\u001b[0m in \u001b[0;36mraw_input\u001b[0;34m(self, prompt)\u001b[0m\n\u001b[1;32m    849\u001b[0m                 \u001b[0;34m\"raw_input was called, but this frontend does not support input requests.\"\u001b[0m\u001b[0;34m\u001b[0m\u001b[0;34m\u001b[0m\u001b[0m\n\u001b[1;32m    850\u001b[0m             )\n\u001b[0;32m--> 851\u001b[0;31m         return self._input_request(str(prompt),\n\u001b[0m\u001b[1;32m    852\u001b[0m             \u001b[0mself\u001b[0m\u001b[0;34m.\u001b[0m\u001b[0m_parent_ident\u001b[0m\u001b[0;34m,\u001b[0m\u001b[0;34m\u001b[0m\u001b[0;34m\u001b[0m\u001b[0m\n\u001b[1;32m    853\u001b[0m             \u001b[0mself\u001b[0m\u001b[0;34m.\u001b[0m\u001b[0m_parent_header\u001b[0m\u001b[0;34m,\u001b[0m\u001b[0;34m\u001b[0m\u001b[0;34m\u001b[0m\u001b[0m\n",
            "\u001b[0;32m/usr/local/lib/python3.10/dist-packages/ipykernel/kernelbase.py\u001b[0m in \u001b[0;36m_input_request\u001b[0;34m(self, prompt, ident, parent, password)\u001b[0m\n\u001b[1;32m    893\u001b[0m             \u001b[0;32mexcept\u001b[0m \u001b[0mKeyboardInterrupt\u001b[0m\u001b[0;34m:\u001b[0m\u001b[0;34m\u001b[0m\u001b[0;34m\u001b[0m\u001b[0m\n\u001b[1;32m    894\u001b[0m                 \u001b[0;31m# re-raise KeyboardInterrupt, to truncate traceback\u001b[0m\u001b[0;34m\u001b[0m\u001b[0;34m\u001b[0m\u001b[0m\n\u001b[0;32m--> 895\u001b[0;31m                 \u001b[0;32mraise\u001b[0m \u001b[0mKeyboardInterrupt\u001b[0m\u001b[0;34m(\u001b[0m\u001b[0;34m\"Interrupted by user\"\u001b[0m\u001b[0;34m)\u001b[0m \u001b[0;32mfrom\u001b[0m \u001b[0;32mNone\u001b[0m\u001b[0;34m\u001b[0m\u001b[0;34m\u001b[0m\u001b[0m\n\u001b[0m\u001b[1;32m    896\u001b[0m             \u001b[0;32mexcept\u001b[0m \u001b[0mException\u001b[0m \u001b[0;32mas\u001b[0m \u001b[0me\u001b[0m\u001b[0;34m:\u001b[0m\u001b[0;34m\u001b[0m\u001b[0;34m\u001b[0m\u001b[0m\n\u001b[1;32m    897\u001b[0m                 \u001b[0mself\u001b[0m\u001b[0;34m.\u001b[0m\u001b[0mlog\u001b[0m\u001b[0;34m.\u001b[0m\u001b[0mwarning\u001b[0m\u001b[0;34m(\u001b[0m\u001b[0;34m\"Invalid Message:\"\u001b[0m\u001b[0;34m,\u001b[0m \u001b[0mexc_info\u001b[0m\u001b[0;34m=\u001b[0m\u001b[0;32mTrue\u001b[0m\u001b[0;34m)\u001b[0m\u001b[0;34m\u001b[0m\u001b[0;34m\u001b[0m\u001b[0m\n",
            "\u001b[0;31mKeyboardInterrupt\u001b[0m: Interrupted by user"
          ]
        }
      ]
    },
    {
      "cell_type": "code",
      "source": [],
      "metadata": {
        "id": "xV6TOABR5Isp"
      },
      "execution_count": null,
      "outputs": []
    }
  ]
}